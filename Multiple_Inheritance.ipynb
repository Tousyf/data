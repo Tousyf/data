{
  "nbformat": 4,
  "nbformat_minor": 0,
  "metadata": {
    "colab": {
      "provenance": [],
      "authorship_tag": "ABX9TyM+AGppYPK3PO/ftrgLi2cJ",
      "include_colab_link": true
    },
    "kernelspec": {
      "name": "python3",
      "display_name": "Python 3"
    },
    "language_info": {
      "name": "python"
    }
  },
  "cells": [
    {
      "cell_type": "markdown",
      "metadata": {
        "id": "view-in-github",
        "colab_type": "text"
      },
      "source": [
        "<a href=\"https://colab.research.google.com/github/Tousyf/data/blob/master/Multiple_Inheritance.ipynb\" target=\"_parent\"><img src=\"https://colab.research.google.com/assets/colab-badge.svg\" alt=\"Open In Colab\"/></a>"
      ]
    },
    {
      "cell_type": "code",
      "execution_count": null,
      "metadata": {
        "colab": {
          "base_uri": "https://localhost:8080/"
        },
        "id": "Sa1PK4mcMcOT",
        "outputId": "7b5001ef-9e43-48bf-a89c-f6eca9cb14cb"
      },
      "outputs": [
        {
          "output_type": "stream",
          "name": "stdout",
          "text": [
            "I can eat\n",
            "I can also work\n"
          ]
        }
      ],
      "source": [
        "class human:\n",
        "  def eat(self):\n",
        "    print(\"I can eat\")\n",
        "\n",
        "\n",
        "\n",
        "\n",
        "\n",
        "class male:\n",
        "  def work(self):\n",
        "    print(\"I can also work\")\n",
        "\n",
        "\n",
        "\n",
        "class  Boy(human,male):\n",
        "  pass\n",
        "\n",
        "boy1 = Boy()\n",
        "boy1.eat()\n",
        "boy1.work()\n",
        "\n"
      ]
    },
    {
      "cell_type": "code",
      "source": [
        "class human:\n",
        "  def eat(self):\n",
        "    print(\"I can eat\")\n",
        "  def work(self):\n",
        "    print(\"I will code\")\n",
        "\n",
        "  def Roll_No(self):\n",
        "    print(\"51 is my roll no\")\n",
        "\n",
        "\n",
        "\n",
        "class male:\n",
        "  def work(self):\n",
        "    print(\"I can also work\")\n",
        "  def Roll_No(self):\n",
        "    print(\"61 is my roll no\")\n",
        "\n",
        "#class  Boy(male,human): #one solution\n",
        "class  Boy(human,male): #the order of base class matters\n",
        "  def sleep(self):\n",
        "    print(\"I can Sleep\")\n",
        "  def work(self):\n",
        "    print(\"I can also test \")\n",
        "\n",
        "boy1 = Boy()\n",
        "boy1.eat()\n",
        "boy1.work()\n",
        "boy1.Roll_No()\n",
        "#male.Roll_No(boy1)   # Another Method\n",
        "\n",
        "\n",
        "print(Boy.mro())\n",
        "\n"
      ],
      "metadata": {
        "colab": {
          "base_uri": "https://localhost:8080/"
        },
        "id": "iF__tpnhPQnb",
        "outputId": "13d28dfc-e0a5-4b49-9e4a-33d59671831d"
      },
      "execution_count": null,
      "outputs": [
        {
          "output_type": "stream",
          "name": "stdout",
          "text": [
            "I can eat\n",
            "I can also test \n",
            "51 is my roll no\n",
            "[<class '__main__.Boy'>, <class '__main__.human'>, <class '__main__.male'>, <class 'object'>]\n"
          ]
        }
      ]
    },
    {
      "cell_type": "code",
      "source": [
        "#this ordering is called MRO....Method Resolution order"
      ],
      "metadata": {
        "id": "k9lY4CIWPQsG"
      },
      "execution_count": null,
      "outputs": []
    },
    {
      "cell_type": "code",
      "source": [
        "class human:\n",
        "  def work(self):\n",
        "    print(\"I can also code\")\n",
        "\n",
        "\n",
        "  def Roll_No(self):\n",
        "    print(\"51 is my roll no\")\n",
        "\n",
        "\n",
        "\n",
        "class male:\n",
        "  def work(self):\n",
        "    print(\"I can also work\")\n",
        "  def Roll_No(self):\n",
        "    print(\"61 is my roll no\")\n",
        "\n",
        "\n",
        "class  Boy(male, human):\n",
        "  def sleep(self):\n",
        "    print(\"I can Sleep\")\n",
        "  def work(self):\n",
        "    print(\"I can also test \")\n",
        "\n",
        "boy1 = Boy()\n",
        "\n",
        "boy1.work()\n",
        "\n",
        "\n",
        "\n",
        "print(Boy.mro())\n",
        "\n"
      ],
      "metadata": {
        "colab": {
          "base_uri": "https://localhost:8080/"
        },
        "id": "nCxOdX1VPQvc",
        "outputId": "300914f1-d3a3-4af8-d7ad-54812a8dc31f"
      },
      "execution_count": null,
      "outputs": [
        {
          "output_type": "stream",
          "name": "stdout",
          "text": [
            "I can also test \n",
            "[<class '__main__.Boy'>, <class '__main__.male'>, <class '__main__.human'>, <class 'object'>]\n"
          ]
        }
      ]
    },
    {
      "cell_type": "code",
      "source": [
        "#for attributes\n",
        "\n",
        "\n",
        "class human:\n",
        "  def __init__(self):\n",
        "    print(\"ist one is running\")\n",
        "    self.num_eyes = 2\n",
        "    self.num_nose = 1\n",
        "  def work(self):\n",
        "    print(\"I can also code\")\n",
        "  def Roll_No(self):\n",
        "    print(\"51 is my roll no\")\n",
        "\n",
        "\n",
        "\n",
        "class male:\n",
        "  def __init__(self, name):\n",
        "    print(\"2nd one is running\")\n",
        "    self.name = name\n",
        "\n",
        "  def work(self):\n",
        "    print(\"I can also work\")\n",
        "  def Roll_No(self):\n",
        "    print(\"61 is my roll no\")\n",
        "\n",
        "\n",
        "class  Boy(human,male):\n",
        "  def sleep(self):\n",
        "    print(\"I can Sleep\")\n",
        "  def work(self):\n",
        "    print(\"I can also test \")\n",
        "\n",
        "boy1 = Boy()\n",
        "print(boy1.num_nose)\n",
        "print(boy1.num_eyes)\n",
        "\n",
        "\n"
      ],
      "metadata": {
        "colab": {
          "base_uri": "https://localhost:8080/"
        },
        "id": "pqgszfrqhERi",
        "outputId": "a77ae864-99e8-4ad5-8e50-e018bc824d87"
      },
      "execution_count": null,
      "outputs": [
        {
          "output_type": "stream",
          "name": "stdout",
          "text": [
            "ist one is running\n",
            "1\n",
            "2\n"
          ]
        }
      ]
    },
    {
      "cell_type": "code",
      "source": [
        "print(boy1.name)"
      ],
      "metadata": {
        "id": "sM1ZTP3NhEU_",
        "colab": {
          "base_uri": "https://localhost:8080/",
          "height": 141
        },
        "outputId": "0605c3f0-ca6e-470f-d0c3-42fb4b8ff9c4"
      },
      "execution_count": null,
      "outputs": [
        {
          "output_type": "error",
          "ename": "AttributeError",
          "evalue": "'Boy' object has no attribute 'name'",
          "traceback": [
            "\u001b[0;31m---------------------------------------------------------------------------\u001b[0m",
            "\u001b[0;31mAttributeError\u001b[0m                            Traceback (most recent call last)",
            "\u001b[0;32m<ipython-input-4-55769168400e>\u001b[0m in \u001b[0;36m<cell line: 1>\u001b[0;34m()\u001b[0m\n\u001b[0;32m----> 1\u001b[0;31m \u001b[0mprint\u001b[0m\u001b[0;34m(\u001b[0m\u001b[0mboy1\u001b[0m\u001b[0;34m.\u001b[0m\u001b[0mname\u001b[0m\u001b[0;34m)\u001b[0m\u001b[0;34m\u001b[0m\u001b[0;34m\u001b[0m\u001b[0m\n\u001b[0m",
            "\u001b[0;31mAttributeError\u001b[0m: 'Boy' object has no attribute 'name'"
          ]
        }
      ]
    },
    {
      "cell_type": "code",
      "source": [
        "boy1"
      ],
      "metadata": {
        "id": "AZ0zr9k7hEZ9"
      },
      "execution_count": null,
      "outputs": []
    },
    {
      "cell_type": "code",
      "source": [
        "#Accessing Attributes"
      ],
      "metadata": {
        "id": "Rcl6QmPoqgiX"
      },
      "execution_count": null,
      "outputs": []
    },
    {
      "cell_type": "code",
      "source": [
        "class human:\n",
        "  def __init__(self):\n",
        "    print(\"Ist contructor\")\n",
        "    self.num_nose = 1\n",
        "    self.num_eyes = 2\n",
        "  def work(self):\n",
        "    print(\"I can also code\")\n",
        "\n",
        "\n",
        "  def Roll_No(self):\n",
        "    print(\"51 is my roll no\")\n",
        "\n",
        "\n",
        "\n",
        "class male:\n",
        "  def __init__(self, name):\n",
        "    print(\"2nd Constructor\")\n",
        "    self.name = name\n",
        "\n",
        "\n",
        "  def work(self):\n",
        "    print(\"I can also work\")\n",
        "  def Roll_No(self):\n",
        "    print(\"61 is my roll no\")\n",
        "\n",
        "\n",
        "class  Boy( human,male):\n",
        "  def sleep(self):\n",
        "    print(\"I can Sleep\")\n",
        "  def work(self):\n",
        "    print(\"I can also test \")\n",
        "\n",
        "boy1 = Boy()\n",
        "\n",
        "#boy1.work()\n",
        "print(boy1.num_nose)\n",
        "\n",
        "\n"
      ],
      "metadata": {
        "colab": {
          "base_uri": "https://localhost:8080/"
        },
        "id": "UDfsGjxhqglZ",
        "outputId": "3f7c9aa8-19fa-41b6-a38b-0a5849b1eccb"
      },
      "execution_count": 5,
      "outputs": [
        {
          "output_type": "stream",
          "name": "stdout",
          "text": [
            "Ist contructor\n",
            "1\n"
          ]
        }
      ]
    },
    {
      "cell_type": "code",
      "source": [
        "#Now if we want to call the both the constructors Then we need to specify"
      ],
      "metadata": {
        "id": "Sx1HV7zPqgok"
      },
      "execution_count": null,
      "outputs": []
    },
    {
      "cell_type": "code",
      "source": [
        "class human:\n",
        "  def __init__(self):\n",
        "    print(\"Ist contructor\")\n",
        "    self.num_nose = 1\n",
        "    self.num_eyes = 2\n",
        "  def work(self):\n",
        "    print(\"I can also code\")\n",
        "\n",
        "\n",
        "  def Roll_No(self):\n",
        "    print(\"51 is my roll no\")\n",
        "\n",
        "\n",
        "\n",
        "class male:\n",
        "  def __init__(self, name):\n",
        "    print(\"2nd Constructor\")\n",
        "    self.name = name\n",
        "\n",
        "\n",
        "  def work(self):\n",
        "    print(\"I can also work\")\n",
        "  def Roll_No(self):\n",
        "    print(\"61 is my roll no\")\n",
        "\n",
        "\n",
        "class  Boy( human,male):\n",
        "  def __init__(self, name):\n",
        "    human.__init__(self)\n",
        "    male.__init__(self, name )\n",
        "  def sleep(self):\n",
        "    print(\"I can Sleep\")\n",
        "  def work(self):\n",
        "    print(\"I can also test \")\n",
        "\n",
        "boy1 = Boy(\"Rahul\")\n",
        "\n",
        "print(boy1.num_nose)\n",
        "\n"
      ],
      "metadata": {
        "colab": {
          "base_uri": "https://localhost:8080/"
        },
        "id": "WBvXMLJAtMZy",
        "outputId": "e04d0010-39df-42d0-dccf-a5260adfa89d"
      },
      "execution_count": 7,
      "outputs": [
        {
          "output_type": "stream",
          "name": "stdout",
          "text": [
            "Ist contructor\n",
            "2nd Constructor\n",
            "1\n"
          ]
        }
      ]
    },
    {
      "cell_type": "code",
      "source": [
        "#passing parametrs in parent classs"
      ],
      "metadata": {
        "id": "I8RIcG1_tMdD"
      },
      "execution_count": null,
      "outputs": []
    },
    {
      "cell_type": "code",
      "source": [
        "class human:\n",
        "  def __init__(self, num_heart):\n",
        "    print(\"Ist contructor\")\n",
        "    self.num_nose = 1\n",
        "    self.num_eyes = 2\n",
        "    self.num_heart = num_heart\n",
        "  def work(self):\n",
        "    print(\"I can also code\")\n",
        "\n",
        "\n",
        "  def Roll_No(self):\n",
        "    print(\"51 is my roll no\")\n",
        "\n",
        "\n",
        "\n",
        "class male:\n",
        "  def __init__(self, name):\n",
        "    print(\"2nd Constructor\")\n",
        "    self.name = name\n",
        "\n",
        "\n",
        "  def work(self):\n",
        "    print(\"I can also work\")\n",
        "  def Roll_No(self):\n",
        "    print(\"61 is my roll no\")\n",
        "\n",
        "\n",
        "class  Boy( human,male):\n",
        "  def __init__(self, name, heart, language):\n",
        "    human.__init__(self, heart)\n",
        "    male.__init__(self, name )\n",
        "    self.language = language\n",
        "  def sleep(self):\n",
        "    print(\"I can Sleep\")\n",
        "  def display(self):\n",
        "    print(f\"Hi I am {self.name} and I am teaching {self.language}\")\n",
        "  def work(self):\n",
        "    print(\"I can also test \")\n",
        "\n",
        "boy1 = Boy(\"Rahul\", 1, \"Python\", )\n",
        "\n",
        "print(boy1.num_nose)\n",
        "print(boy1.num_heart)\n",
        "print(boy1.language)\n",
        "print(boy1.name)\n",
        "boy1.display()\n",
        "\n"
      ],
      "metadata": {
        "colab": {
          "base_uri": "https://localhost:8080/"
        },
        "id": "XV2HVzWvtMg1",
        "outputId": "1eeb5875-e132-41e8-c79c-2efa189be9a7"
      },
      "execution_count": 22,
      "outputs": [
        {
          "output_type": "stream",
          "name": "stdout",
          "text": [
            "Ist contructor\n",
            "2nd Constructor\n",
            "1\n",
            "1\n",
            "Python\n",
            "Rahul\n",
            "Hi I am Rahul and I am teaching Python\n"
          ]
        }
      ]
    },
    {
      "cell_type": "code",
      "source": [],
      "metadata": {
        "id": "UKlQSD2jvKlK"
      },
      "execution_count": null,
      "outputs": []
    }
  ]
}